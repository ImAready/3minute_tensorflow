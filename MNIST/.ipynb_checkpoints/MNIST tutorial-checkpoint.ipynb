{
 "cells": [
  {
   "cell_type": "markdown",
   "metadata": {},
   "source": [
    "\n",
    "### MNIST\n",
    "\n",
    "**MNIST** : 손으로 쓴 숫자들의 이미지를 모아놓은 데이터셋, 0~9까지 28X28 픽셀크기의 이미지로 구성.  \n"
   ]
  },
  {
   "cell_type": "code",
   "execution_count": 1,
   "metadata": {
    "scrolled": true
   },
   "outputs": [
    {
     "name": "stdout",
     "output_type": "stream",
     "text": [
      "WARNING:tensorflow:From <ipython-input-1-923f6d43374b>:8: read_data_sets (from tensorflow.contrib.learn.python.learn.datasets.mnist) is deprecated and will be removed in a future version.\n",
      "Instructions for updating:\n",
      "Please use alternatives such as official/mnist/dataset.py from tensorflow/models.\n",
      "WARNING:tensorflow:From C:\\Anaconda3\\envs\\deep\\lib\\site-packages\\tensorflow\\contrib\\learn\\python\\learn\\datasets\\mnist.py:260: maybe_download (from tensorflow.contrib.learn.python.learn.datasets.base) is deprecated and will be removed in a future version.\n",
      "Instructions for updating:\n",
      "Please write your own downloading logic.\n",
      "WARNING:tensorflow:From C:\\Anaconda3\\envs\\deep\\lib\\site-packages\\tensorflow\\contrib\\learn\\python\\learn\\datasets\\mnist.py:262: extract_images (from tensorflow.contrib.learn.python.learn.datasets.mnist) is deprecated and will be removed in a future version.\n",
      "Instructions for updating:\n",
      "Please use tf.data to implement this functionality.\n",
      "Extracting .\\mnist\\data\\train-images-idx3-ubyte.gz\n",
      "WARNING:tensorflow:From C:\\Anaconda3\\envs\\deep\\lib\\site-packages\\tensorflow\\contrib\\learn\\python\\learn\\datasets\\mnist.py:267: extract_labels (from tensorflow.contrib.learn.python.learn.datasets.mnist) is deprecated and will be removed in a future version.\n",
      "Instructions for updating:\n",
      "Please use tf.data to implement this functionality.\n",
      "Extracting .\\mnist\\data\\train-labels-idx1-ubyte.gz\n",
      "WARNING:tensorflow:From C:\\Anaconda3\\envs\\deep\\lib\\site-packages\\tensorflow\\contrib\\learn\\python\\learn\\datasets\\mnist.py:110: dense_to_one_hot (from tensorflow.contrib.learn.python.learn.datasets.mnist) is deprecated and will be removed in a future version.\n",
      "Instructions for updating:\n",
      "Please use tf.one_hot on tensors.\n",
      "Extracting .\\mnist\\data\\t10k-images-idx3-ubyte.gz\n",
      "Extracting .\\mnist\\data\\t10k-labels-idx1-ubyte.gz\n",
      "WARNING:tensorflow:From C:\\Anaconda3\\envs\\deep\\lib\\site-packages\\tensorflow\\contrib\\learn\\python\\learn\\datasets\\mnist.py:290: DataSet.__init__ (from tensorflow.contrib.learn.python.learn.datasets.mnist) is deprecated and will be removed in a future version.\n",
      "Instructions for updating:\n",
      "Please use alternatives such as official/mnist/dataset.py from tensorflow/models.\n"
     ]
    }
   ],
   "source": [
    "import tensorflow as tf\n",
    "from tensorflow.examples.tutorials.mnist import input_data\n",
    "\n",
    "\n",
    "# 텐서플로에 내장된 mnist 모듈을 이용해 데이터를 로드한다.\n",
    "# 지정한 폴더에 mnist 데이터가 없는 경우 자동으로 데이터를 다운로드한다.\n",
    "#one_hot 옵션 : 레이블을 one_hot 방식으로 만들어줌다.\n",
    "mnist = input_data.read_data_sets(\".\\mnist\\data\", one_hot=True)\n",
    "\n",
    "# 위 경고 문구 출력. 곧 삭제\n",
    "# Keras 사용 \n"
   ]
  },
  {
   "cell_type": "markdown",
   "metadata": {},
   "source": [
    "\n",
    "-----\n",
    "신경망 모델을 작성한다.  \n",
    "28X28 픽셀 이미지로 784개의 특징으로 이루어져있다.  \n",
    "레이블은 0부터 9까지 10개의 분류로 나누어져있다.  \n"
   ]
  },
  {
   "cell_type": "code",
   "execution_count": 2,
   "metadata": {},
   "outputs": [],
   "source": [
    "X = tf.placeholder(tf.float32, [None, 784])\n",
    "Y = tf.placeholder(tf.float32, [None, 10])\n",
    "\n"
   ]
  },
  {
   "cell_type": "markdown",
   "metadata": {},
   "source": [
    "\n",
    "**미니배치**:이미지를 하나씩 학습시키는 것 보다 여러개를 한꺼번에 학습시키는 것이 효과가 더 크다.  \n",
    "하지만 그만큼 많은 메모리와 성능이 필요해서 데이터를 적당히 잘라서 학습시키는것.  \n",
    "\n",
    "위에 텐서의 첫번째 차원이 None인 것은 한 번에 학습시킬 MNIST 이미지 개수를 지정하는 값이 들어갈 것. 즉 배치 크기를 지정하는 자리이다.  \n",
    "\n",
    "직접 명시해줘도 되지만, 한 번에 학습할 개수를 계속 바꿔가면서 실험해보려는 경우 None을 넣어주면 텐서플로가 알아서 계산한다.\n",
    "\n",
    "-------\n",
    "은닉층을 아래와 같이 구성\n",
    "\n",
    "784(입력, 특징 개수) -> 256 (첫 번째 은닉층 뉴런 수) -> 256 (두 번째 은닉층 뉴런 수) -> 10 (결과 분류 개수)"
   ]
  },
  {
   "cell_type": "code",
   "execution_count": 3,
   "metadata": {},
   "outputs": [],
   "source": [
    "\n",
    "# tf.random_normal([], stddev) : 표준편차가 stddev인 정규분포를 갖는 임의의 값으로 초기화 \n",
    "W1 = tf.Variable(tf.random_normal([784, 256], stddev = 0.01))\n",
    "L1 = tf.nn.relu(tf.matmul(X, W1))\n",
    "\n",
    "W2 = tf.Variable(tf.random_normal([256, 256], stddev = 0.01))\n",
    "L2 = tf.nn.relu(tf.matmul(L1, W2))\n",
    "\n",
    "W3 = tf.Variable(tf.random_normal([256, 10], stddev = 0.01))\n",
    "model = tf.matmul(L2, W3)"
   ]
  },
  {
   "cell_type": "code",
   "execution_count": 4,
   "metadata": {},
   "outputs": [
    {
     "name": "stdout",
     "output_type": "stream",
     "text": [
      "Epoch:: 0001 Avg. cost =  0.413\n",
      "Epoch:: 0002 Avg. cost =  0.151\n",
      "Epoch:: 0003 Avg. cost =  0.098\n",
      "Epoch:: 0004 Avg. cost =  0.071\n",
      "Epoch:: 0005 Avg. cost =  0.054\n",
      "Epoch:: 0006 Avg. cost =  0.041\n",
      "Epoch:: 0007 Avg. cost =  0.032\n",
      "Epoch:: 0008 Avg. cost =  0.024\n",
      "Epoch:: 0009 Avg. cost =  0.020\n",
      "Epoch:: 0010 Avg. cost =  0.019\n",
      "Epoch:: 0011 Avg. cost =  0.015\n",
      "Epoch:: 0012 Avg. cost =  0.016\n",
      "Epoch:: 0013 Avg. cost =  0.013\n",
      "Epoch:: 0014 Avg. cost =  0.011\n",
      "Epoch:: 0015 Avg. cost =  0.012\n",
      "최적화 완료!!\n"
     ]
    }
   ],
   "source": [
    "\n",
    "# 손실값을 구한다. (실제값과 예측값 차이)\n",
    "cost = tf.reduce_mean(tf.nn.softmax_cross_entropy_with_logits_v2(\n",
    "                        logits = model, labels = Y))\n",
    "\n",
    "# 손실값을 최적화, learning_rate = 0.001\n",
    "optimizer = tf.train.AdamOptimizer(0.001).minimize(cost)\n",
    "\n",
    "###################\n",
    "# 신경망 모델 학습\n",
    "##################\n",
    "\n",
    "# 모델 초기화 및 세션 시작\n",
    "init = tf.global_variables_initializer()\n",
    "sess = tf.Session()\n",
    "sess.run(init)\n",
    "\n",
    "# 미니배치 사용\n",
    "batch_size = 100\n",
    "# 미니배치 총 개수 = 총 학습 데이터 / 미니배치\n",
    "total_batch = int(mnist.train.num_examples / batch_size)\n",
    "\n",
    "# 학습 15번\n",
    "# 에폭 : 학습 데이터 전체를 한번 도는 것\n",
    "for epoch in range(15):\n",
    "    total_cost = 0\n",
    "    \n",
    "    # 미니배치 총 개수만큼 반복\n",
    "    for i in range(total_batch):\n",
    "        # 학습할 데이터를 배치 크기만큼 가져와서 입력값(이미지), 출력값(레이블) 반환\n",
    "        batch_xs, batch_ys = mnist.train.next_batch(batch_size)\n",
    "        \n",
    "        # 최적화 시키고 손실값을 가져와 cost_val에 저장\n",
    "        _, cost_val = sess.run([optimizer, cost],\n",
    "                            feed_dict={X: batch_xs, Y: batch_ys})\n",
    "        \n",
    "        total_cost += cost_val\n",
    "    \n",
    "    # 한 세대 학습이 끝나면 그 세대의 평균 손실값 출력\n",
    "    print('Epoch::', '%04d' % (epoch + 1),\n",
    "         'Avg. cost = ','{:.3f}'.format(total_cost / total_batch))\n",
    "    \n",
    "print('최적화 완료!!')"
   ]
  },
  {
   "cell_type": "code",
   "execution_count": 5,
   "metadata": {},
   "outputs": [
    {
     "name": "stdout",
     "output_type": "stream",
     "text": [
      "정확도:: 0.9788\n"
     ]
    }
   ],
   "source": [
    "############\n",
    "# 결과 확인\n",
    "###########\n",
    "# model로 예측값과 실제값 비교, 1번째 인덱스의 차원에서 최대값 인덱스를 뽑음.\n",
    "is_correct = tf.equal(tf.argmax(model, 1), tf.argmax(Y, 1))\n",
    "\n",
    "# is_correct를 0과 1로 변환 후 평균을 낸다. \n",
    "accuracy = tf.reduce_mean(tf.cast(is_correct, tf.float32))\n",
    "\n",
    "# 테스트 데이터를 넣어서 정확도 확인.\n",
    "print('정확도::', sess.run(accuracy, \n",
    "                       feed_dict={X : mnist.test.images,\n",
    "                                  Y : mnist.test.labels}))"
   ]
  },
  {
   "cell_type": "markdown",
   "metadata": {},
   "source": [
    "아래가 추가된 코드는 mnist.py 파일로\n",
    "\n",
    "\n",
    "#### 6.2 드롭아웃\n",
    "**드롭아웃** : 과적합(학습 데이터만 좋은 결과가 나타나고 그 외 데이터에는 잘 맞지 않음)을 해결하기 위한 방법.\n",
    "\n",
    "원리 :   \n",
    "    학습 시 전체 신경망 중 일부만을 사용하도록 한다. 즉, 학습 단계마다 일부 뉴런을 사용하지 않도록 함으로써 일부 특징이 특정 뉴런들에 고정되는 것을 막는다.  \n",
    "    다만 학습 시간이 좀 더 걸림  \n",
    "    \n",
    "![드롭아웃](.\\img\\img1.JPG)\n",
    "    \n",
    "\n",
    "최근에는 배치 정규화 기법이 많이 이용 -> 과적합 해결 및 속도 향상  \n",
    "tf.layers.batch_normalization(L1, trainig=is_trainig)"
   ]
  },
  {
   "cell_type": "code",
   "execution_count": null,
   "metadata": {},
   "outputs": [],
   "source": [
    "keep_prob = tf.palceholder(tf.float32)\n",
    "\n",
    "# 각 모델 구성에 추가\n",
    "L1 = tf.nn.dropout(L1, keep_prop)\n",
    "\n",
    "L2 = tf.nn.dropout(L2, keep_prop)\n",
    "\n",
    "# 학습 코드에 추가\n",
    "_, cost_val = sess.run([optimizer, cost], \n",
    "                      feed_dict = {X: batch_xs,\n",
    "                                  Y: batch_ys,\n",
    "                                  keep_prop: 0.08})\n",
    "\n",
    "# 예측 코드에 추가\n",
    "print('정확도::', sess.run(accuracy,\n",
    "                       feed_dict={X: mnist.test.images,\n",
    "                                 Y: mnist.test.labels,\n",
    "                                 keep_prop: 1}))"
   ]
  },
  {
   "cell_type": "markdown",
   "metadata": {},
   "source": [
    "\n",
    "#### 6.3 matplotlib\n",
    "**matplotlib** : 시각화를 위해 그래프를 쉽게 그릴 수 있도록 해주는 라이브러리\n"
   ]
  },
  {
   "cell_type": "code",
   "execution_count": null,
   "metadata": {},
   "outputs": [],
   "source": [
    "import matplotlib.pyplot as plt\n",
    "\n",
    "# 결과값 저장\n",
    "labels = sess.run(model, feed_dict={\n",
    "    X: mnist.test.images,\n",
    "    Y: mnist.test.labels\n",
    "})\n",
    "\n",
    "# 손글씨를 출력할 그래프 준비\n",
    "fig = plt.figure()\n",
    "\n",
    "# 예측값 출력\n",
    "for i in range(10):\n",
    "    # 2행 5열의 그래프를 만들고, i + 1번재에 숫자 이미지 출력\n",
    "    subplot = fig.add_subplot(2, 5, i+1)\n",
    "    \n",
    "    # 이미지를 깨끗하게 출력하기 위해 x와 y의 눈금을 출력하지 않는다.\n",
    "    subplot.set_xticks([])\n",
    "    subplot.set_yticks([])\n",
    "    \n",
    "    # 출력할 이미지 위에 예측한 숫자 출력\n",
    "    # np.argmax = tf.argmax\n",
    "    # 라벨이 원핫코딩이므로 배열에서 최대값을 가진 인덱스를 예측한 숫자로 출력\n",
    "    subplot.set_title('%d' % np.argmax(labels[i]))\n",
    "    \n",
    "    # 1차원 배열로 되어 있는 i번째 이미지 데이터를 \n",
    "    # 28X28 형식의 2차원 배열로 변형하여 이미지 형태로 출력\n",
    "    # cmap 파라미터를 통해 이미지를 그레이스케일로 출력\n",
    "    subplot.imshow(mnist.test.images[i].reshape((28, 28)),\n",
    "                  cmap = plt.cm.gray_r)"
   ]
  }
 ],
 "metadata": {
  "kernelspec": {
   "display_name": "deep",
   "language": "python",
   "name": "deep"
  },
  "language_info": {
   "codemirror_mode": {
    "name": "ipython",
    "version": 3
   },
   "file_extension": ".py",
   "mimetype": "text/x-python",
   "name": "python",
   "nbconvert_exporter": "python",
   "pygments_lexer": "ipython3",
   "version": "3.6.5"
  }
 },
 "nbformat": 4,
 "nbformat_minor": 2
}
