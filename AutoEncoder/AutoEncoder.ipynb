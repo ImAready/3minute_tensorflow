{
 "cells": [
  {
   "cell_type": "markdown",
   "metadata": {},
   "source": [
    "\n",
    "### AutoEncoder\n",
    "\n",
    "머신러닝 학습법\n",
    "1. 지도 학습\n",
    "    - 프로그램에게 원하는 결과를 알려주고 학습하게 하는 방법\n",
    "    - X, Y 둘다 있다.\n",
    "2. 비지도 학습\n",
    "    - 입력값으로부터 데이터의 특징을 찾아내는 학습 방법\n",
    "    - X만 있다.\n",
    "\n",
    "#### 8.1 AutoEncoder 개념\n",
    "- 입력값과 출력값을 같게 하는 신경망이다.\n",
    "- 가운데 계층의 노드 수가 입력값보다 **작은 것**이 특징. -> 데이터 **압축** 효과 -> **노이즈 제거**\n",
    "- 입력층으로 들어온 데이터를 인코더를 통해 은닉층으로 내보내고, 은닉층의 데이터를 디코더를 통해 출력층으로 내보낸 뒤, 만들어진 출력값을 입력값과 비슷해지도록 만드는 가중치를 찾아낸다.\n",
    "- 변이형 , 잡음제거 등 다양한 방식이 있다.\n",
    "\n",
    "![오토인코더](./img/img1.JPG)\n",
    "\n",
    "\n",
    "#### 8.2 구현하기"
   ]
  },
  {
   "cell_type": "code",
   "execution_count": 2,
   "metadata": {},
   "outputs": [
    {
     "name": "stdout",
     "output_type": "stream",
     "text": [
      "Successfully downloaded train-images-idx3-ubyte.gz 9912422 bytes.\n",
      "Extracting ..\\data\\mnist\\data\\train-images-idx3-ubyte.gz\n",
      "Successfully downloaded train-labels-idx1-ubyte.gz 28881 bytes.\n",
      "Extracting ..\\data\\mnist\\data\\train-labels-idx1-ubyte.gz\n",
      "Successfully downloaded t10k-images-idx3-ubyte.gz 1648877 bytes.\n",
      "Extracting ..\\data\\mnist\\data\\t10k-images-idx3-ubyte.gz\n",
      "Successfully downloaded t10k-labels-idx1-ubyte.gz 4542 bytes.\n",
      "Extracting ..\\data\\mnist\\data\\t10k-labels-idx1-ubyte.gz\n"
     ]
    }
   ],
   "source": [
    "import tensorflow as tf\n",
    "import numpy as np\n",
    "import matplotlib.pyplot as plt\n",
    "\n",
    "from tensorflow.examples.tutorials.mnist import input_data\n",
    "mnist = input_data.read_data_sets(\"..\\data\\mnist\\data\", one_hot=True)"
   ]
  },
  {
   "cell_type": "code",
   "execution_count": 4,
   "metadata": {},
   "outputs": [],
   "source": [
    "\n",
    "################\n",
    "# 하이퍼파라미터 설정\n",
    "################\n",
    "learning_rate = 0.01    # 학습률\n",
    "training_epoch = 20     # 전체 데이터를 학습할 횟수\n",
    "batch_size = 100        # 미니배치로 한 번에 학습할 데이터 개수\n",
    "n_hidden = 256          # 은닉층 뉴런 수\n",
    "n_input = 28*28         # 입력값 크기 (MNIST 28*28 = 784)\n",
    "\n",
    "\n",
    "\n",
    "#############\n",
    "# 모델 구성\n",
    "#############\n",
    "X = tf.placeholder(tf.float32, [None, n_input])\n",
    "\n",
    "# 인코더 \n",
    "# 입력값 n_input보다 n_hidden값이 더 작다(반대인 오토인코더도 있음)\n",
    "W_encode = tf.Variable(tf.random_normal([n_input, n_hidden]))\n",
    "b_encode = tf.Variable(tf.random_normal([n_hidden]))\n",
    "encoder = tf.nn.sigmoid(tf.add(tf.matmul(X, W_encode), b_encode))\n",
    "\n",
    "# 디코더\n",
    "W_decode = tf.Variable(tf.random_normal([n_hidden, n_input]))\n",
    "b_decode = tf.Variable(tf.random_normal([n_input]))\n",
    "decoder = tf.nn.sigmoid(tf.add(tf.matmul(encoder, W_decode), b_decode))\n",
    "\n"
   ]
  },
  {
   "cell_type": "markdown",
   "metadata": {},
   "source": [
    "구현된 신경망 모델 구성  \n",
    "![모델 구성](./img/img2.JPG)\n",
    "\n",
    "기본적인 AutoEncoder의 목적은 출력값을 입력값과 가장 비슷하게 만드는 것 -> 압축된 은닉층의 뉴런들을 통해 입력값의 특징을 알아낼 수 있다.  \n",
    "\n",
    "따라서 입력값인 X를 평가하기 위한 실측값으로 사용하고, 디코더가 내보낸 결과값과의 차이를 손실값으로 설정했다. (입력값 - 디코더 출력값) \n",
    "이 값의 차이는 거리 함수로 구한다."
   ]
  },
  {
   "cell_type": "code",
   "execution_count": 6,
   "metadata": {},
   "outputs": [
    {
     "name": "stdout",
     "output_type": "stream",
     "text": [
      "Epoch:: 0001 Avg. cost = 0.1924\n",
      "Epoch:: 0002 Avg. cost = 0.0525\n",
      "Epoch:: 0003 Avg. cost = 0.0417\n",
      "Epoch:: 0004 Avg. cost = 0.0362\n",
      "Epoch:: 0005 Avg. cost = 0.0325\n",
      "Epoch:: 0006 Avg. cost = 0.0300\n",
      "Epoch:: 0007 Avg. cost = 0.0287\n",
      "Epoch:: 0008 Avg. cost = 0.0279\n",
      "Epoch:: 0009 Avg. cost = 0.0270\n",
      "Epoch:: 0010 Avg. cost = 0.0264\n",
      "Epoch:: 0011 Avg. cost = 0.0259\n",
      "Epoch:: 0012 Avg. cost = 0.0248\n",
      "Epoch:: 0013 Avg. cost = 0.0242\n",
      "Epoch:: 0014 Avg. cost = 0.0229\n",
      "Epoch:: 0015 Avg. cost = 0.0225\n",
      "Epoch:: 0016 Avg. cost = 0.0223\n",
      "Epoch:: 0017 Avg. cost = 0.0221\n",
      "Epoch:: 0018 Avg. cost = 0.0217\n",
      "Epoch:: 0019 Avg. cost = 0.0214\n",
      "Epoch:: 0020 Avg. cost = 0.0211\n",
      "최적화 완료!\n"
     ]
    },
    {
     "data": {
      "image/png": "[encoded data removed]",
      "text/plain": [
       "<Figure size 720x144 with 20 Axes>"
      ]
     },
     "metadata": {},
     "output_type": "display_data"
    }
   ],
   "source": [
    "# 손실 함수\n",
    "cost = tf.reduce_mean(tf.pow(X - decoder, 2))\n",
    "\n",
    "# 최적화 함수 : RMSPropOptimizer\n",
    "optimizer = tf.train.RMSPropOptimizer(learning_rate).minimize(cost)\n",
    "\n",
    "\n",
    "\n",
    "##############\n",
    "# 신경망 학습\n",
    "##############\n",
    "init = tf.global_variables_initializer()\n",
    "sess = tf.Session()\n",
    "sess.run(init)\n",
    "\n",
    "total_batch = int(mnist.train.num_examples / batch_size)\n",
    "\n",
    "for epoch in range(training_epoch):\n",
    "    total_cost = 0\n",
    "    \n",
    "    for i in range(total_batch):\n",
    "        batch_xs, batch_ys = mnist.train.next_batch(batch_size)\n",
    "        _, cost_val = sess.run([optimizer, cost],\n",
    "                              feed_dict = {X: batch_xs})\n",
    "        total_cost += cost_val\n",
    "        \n",
    "    print('Epoch::', '%04d' % (epoch + 1),\n",
    "         'Avg. cost =', '{:.4f}'.format(total_cost / total_batch))\n",
    "\n",
    "print('최적화 완료!')\n",
    "\n",
    "\n",
    "#################\n",
    "# 결과 확인\n",
    "#################\n",
    "# 정확도가 아닌, 디코더가 생성해낸 결과를 직관적으로 확인\n",
    "\n",
    "# 10개의 테스트 데이터를 가져와 디코터를 이용해 출력값으로 만든다.\n",
    "sample_size = 10\n",
    "samples = sess.run(decoder,\n",
    "                 feed_dict={X: mnist.test.images[:sample_size]})\n",
    "\n",
    "# numpy 모듈로 MNIST 데이터를 28*28 이미지 데이터로 재구성\n",
    "# imshow 함수로 그래프에 이미지로 출력 (위:입력, 아래:출력)\n",
    "fig, ax = plt.subplots(2, sample_size, figsize=(sample_size, 2))\n",
    "\n",
    "for i in range(sample_size):\n",
    "    ax[0][i].set_axis_off()\n",
    "    ax[1][i].set_axis_off()\n",
    "    ax[0][i].imshow(np.reshape(mnist.test.images[i], (28, 28)))\n",
    "    ax[1][i].imshow(np.reshape(samples[i], (28, 28)))\n",
    "plt.show()"
   ]
  },
  {
   "cell_type": "code",
   "execution_count": null,
   "metadata": {},
   "outputs": [],
   "source": []
  }
 ],
 "metadata": {
  "kernelspec": {
   "display_name": "deep",
   "language": "python",
   "name": "deep"
  },
  "language_info": {
   "codemirror_mode": {
    "name": "ipython",
    "version": 3
   },
   "file_extension": ".py",
   "mimetype": "text/x-python",
   "name": "python",
   "nbconvert_exporter": "python",
   "pygments_lexer": "ipython3",
   "version": "3.6.5"
  }
 },
 "nbformat": 4,
 "nbformat_minor": 2
}
