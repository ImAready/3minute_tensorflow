{
 "cells": [
  {
   "cell_type": "markdown",
   "metadata": {},
   "source": [
    "\n",
    "### 9. GAN\n",
    "- 결과물을 생성하는 모델\n",
    "- 서로 대립하는 두 신경망을 경쟁시켜가며 결과물 생성 방법을 학습한다.\n",
    "    - 위조지폐범(생성자)은 경찰(구분자)를 최대한 속이려고 노력하고, 경찰은 위조한 지폐를 쵣"
   ]
  }
 ],
 "metadata": {
  "kernelspec": {
   "display_name": "deep",
   "language": "python",
   "name": "deep"
  },
  "language_info": {
   "codemirror_mode": {
    "name": "ipython",
    "version": 3
   },
   "file_extension": ".py",
   "mimetype": "text/x-python",
   "name": "python",
   "nbconvert_exporter": "python",
   "pygments_lexer": "ipython3",
   "version": "3.6.5"
  }
 },
 "nbformat": 4,
 "nbformat_minor": 2
}
