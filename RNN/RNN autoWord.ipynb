{
 "cells": [
  {
   "cell_type": "markdown",
   "metadata": {},
   "source": [
    "\n",
    "#### 10.2 단어 자동 완성\n",
    "\n",
    "- 영문자 4개로 구성된 단어를 학습시켜서, 3글자만 주어지면 나머지 한 글자를 추천하는 프로그램\n",
    "\n",
    "**!** dynamic_rnn의 sequence_length 옵션을 사용하면 가변 길이의 단어를 학습시킬 수 있다. \n",
    "짧은 단어는 가장 긴 단어의 길이 만큼 뒷부분을 0으로 채우고, 해당 단어의 길이를 계산해서 sequence_length로 넘겨준다 (batch_size만큼의 배열로)\n",
    "\n",
    "- 학습시킬 데이터는 영문자로 구성된 임의의 단어.\n",
    "- 한 글자를 하나의 단계로 본다. (한 글자 = 한 단계 입력값 / 총 글자 = 전체 단계)\n",
    "\n",
    "![자동완성 모델](\\img\\img3.JPG)\n",
    "\n"
   ]
  },
  {
   "cell_type": "code",
   "execution_count": 1,
   "metadata": {},
   "outputs": [],
   "source": [
    "import tensorflow as tf\n",
    "import numpy as np\n",
    "\n",
    "# 각 글자에 해당하는 인덱스를 one-hot 코딩으로 표현한다.\n",
    "# 이를 위해 알파벳 글자들을 배열에 넣고\n",
    "char_arr = ['a', 'b','c','d','e'\n",
    "            ,'f','g','h','i','j'\n",
    "            ,'k','l','m','n','o','p'\n",
    "            ,'q','r','s','t','u'\n",
    "            ,'v','w','x','y','z']\n",
    "# {'a':0, 'b':1, 'c':2,...'j':9...}\n",
    "\n",
    "# 해당 글자의 인덱스를 구할 수 있는 연관 배열(딕셔너리)를 만든다.\n",
    "num_dic = {n: i for i, n in enumerate(char_arr)}\n",
    "dic_len = len(num_dic)\n",
    "\n",
    "\n",
    "# 학습에 사용할 단어를 배열로 저장한다.\n",
    "seq_data = ['word', 'wood', 'deep', 'dive', 'cold', 'cool', 'load',\n",
    "           'love', 'kiss', 'kind']\n",
    "\n"
   ]
  },
  {
   "cell_type": "markdown",
   "metadata": {},
   "source": [
    "-----------\n",
    "\n",
    "단어들을 학습에 사용할 수 있는 형식으로 변환하는 함수 작성.  \n",
    "1. 입력값 용 : 단어의 처음 세 글자의 알파벳 인덱스를 구한 배열을 만든다.\n",
    "    - input = [num_dic[n] for n in seq[:-1]]\n",
    "2. 출력값 용 : 마지막 글자의 알파벳 인덱스를 구한다.\n",
    "    - target = num_dic[seq[-1]]\n",
    "3. 입력값을 원-핫 인코딩으로 변환\n",
    "    - iput_batch.append(np.eye(dic_len)[input])\n",
    "\n",
    "```\n",
    "! ) 예\n",
    "데이터 : deep  \n",
    "-> 입력값 : d, e, e  \n",
    "-> 인덱스를 구해 배열로 : [3, 4, 4]  \n",
    "-> 원-핫 코딩 : [[0, 0, 0, 1, 0, ...,0]  \n",
    "                [0, 0, 0, 0, 1, ...,0]  \n",
    "                [0, 0, 0, 0, 1, ...,0]]  \n",
    "   ```             \n",
    "실측값 : p 의 인덱스 15, 원-핫 인코딩 하지 않음.\n",
    "    -> 손실함수로 sparse_softmax_cross_entropy_with_logits를 사용하기 때문\n",
    "    **!** 위 함수는 실측값(labels) 값에 원-핫 인코딩을 사용하지 않아도 자동으로 변환하여 계산한다.  \n",
    "    "
   ]
  },
  {
   "cell_type": "code",
   "execution_count": 6,
   "metadata": {},
   "outputs": [],
   "source": [
    "def make_batch(seq_data):\n",
    "    input_batch = []\n",
    "    target_batch = []\n",
    "    \n",
    "    for seq in seq_data:\n",
    "        input = [num_dic[n] for n in seq[:-1]]\n",
    "        target = num_dic[seq[-1]]\n",
    "        input_batch.append(np.eye(dic_len)[input])\n",
    "        target_batch.append(target)\n",
    "    \n",
    "    return input_batch, target_batch\n",
    "        "
   ]
  },
  {
   "cell_type": "code",
   "execution_count": 3,
   "metadata": {},
   "outputs": [],
   "source": [
    "# 데이터 전처리 끝남.\n",
    "\n",
    "#######\n",
    "# 신경망 모델 구성\n",
    "##########\n",
    "\n",
    "learning_rate = 0.01\n",
    "n_hidden = 128\n",
    "total_epoch = 30\n",
    "n_step = 3    # 단어중 처음 3글자를 단계적으로 학습. \n",
    "# 입력, 출력값은 원-핫 인코딩을 사용하기 때문에 알파벳 배열 크기와 같다.\n",
    "# sparse_softmax 사용시 실측값:인덱스 숫자, 예측모델 출력값:원-핫 인코딩\n",
    "n_input = n_class = dic_len \n",
    "\n",
    "\n",
    "X = tf.placeholder(tf.float32, [None, n_step, n_input])\n",
    "# 실측값, batch_size에 해당하는 하나의 차원만 있다. (원-핫 코딩이 아니고 인덱스 그대로)\n",
    "Y = tf.placeholder(tf.int32, [None])\n",
    "W = tf.Variable(tf.random_normal([n_hidden, n_class]))\n",
    "b = tf.Variable(tf.random_normal([n_class]))\n",
    "\n"
   ]
  },
  {
   "cell_type": "code",
   "execution_count": 4,
   "metadata": {},
   "outputs": [],
   "source": [
    "# 2개의 RNN 셀 생성\n",
    "# 여러 셀을 조합해서 심층 신경망을 만든다.\n",
    "cell1 = tf.nn.rnn_cell.BasicLSTMCell(n_hidden)\n",
    "# 드롭아웃 기법\n",
    "cell1 = tf.nn.rnn_cell.DropoutWrapper(cell1, output_keep_prob=0.5)\n",
    "cell2 = tf.nn.rnn_cell.BasicLSTMCell(n_hidden)\n",
    "\n",
    "\n",
    "# 샐성한 셀들을 MultiRNNCell 함수로 조합하고\n",
    "multi_cell = tf.nn.rnn_cell.MultiRNNCell([cell1, cell2])\n",
    "# dynamic_rnn 함수로 심층 순환 신경망 (Deep RNN)을 만든다.\n",
    "outputs, states = tf.nn.dynamic_rnn(multi_cell, X, dtype=tf.float32)\n",
    "\n",
    "# 최종 출력층을 만든다.\n",
    "outputs = tf.transpose(outputs, [1, 0, 2])\n",
    "outputs = outputs[-1]\n",
    "model = tf.matmul(outputs, W) + b\n",
    "\n",
    "# 손실함수 \n",
    "cost = tf.reduce_mean(\n",
    "            tf.nn.sparse_softmax_cross_entropy_with_logits(\n",
    "            logits = model, labels = Y))\n",
    "# 최적화 함수\n",
    "optimizer = tf.train.AdamOptimizer(learning_rate).minimize(cost)\n"
   ]
  },
  {
   "cell_type": "code",
   "execution_count": 7,
   "metadata": {},
   "outputs": [
    {
     "name": "stdout",
     "output_type": "stream",
     "text": [
      "Epoch:: 0001 cost =  3.523435\n",
      "Epoch:: 0002 cost =  2.600816\n",
      "Epoch:: 0003 cost =  1.452710\n",
      "Epoch:: 0004 cost =  1.224106\n",
      "Epoch:: 0005 cost =  0.537529\n",
      "Epoch:: 0006 cost =  0.550484\n",
      "Epoch:: 0007 cost =  0.520311\n",
      "Epoch:: 0008 cost =  0.455570\n",
      "Epoch:: 0009 cost =  0.322111\n",
      "Epoch:: 0010 cost =  0.339305\n",
      "Epoch:: 0011 cost =  0.281957\n",
      "Epoch:: 0012 cost =  0.134980\n",
      "Epoch:: 0013 cost =  0.038312\n",
      "Epoch:: 0014 cost =  0.219446\n",
      "Epoch:: 0015 cost =  0.347925\n",
      "Epoch:: 0016 cost =  0.171057\n",
      "Epoch:: 0017 cost =  0.059178\n",
      "Epoch:: 0018 cost =  0.031553\n",
      "Epoch:: 0019 cost =  0.141151\n",
      "Epoch:: 0020 cost =  0.186091\n",
      "Epoch:: 0021 cost =  0.076618\n",
      "Epoch:: 0022 cost =  0.011051\n",
      "Epoch:: 0023 cost =  0.017619\n",
      "Epoch:: 0024 cost =  0.018152\n",
      "Epoch:: 0025 cost =  0.039708\n",
      "Epoch:: 0026 cost =  0.014823\n",
      "Epoch:: 0027 cost =  0.015523\n",
      "Epoch:: 0028 cost =  0.031864\n",
      "Epoch:: 0029 cost =  0.130121\n",
      "Epoch:: 0030 cost =  0.035207\n",
      "최적화 완료!\n"
     ]
    }
   ],
   "source": [
    "\n",
    "\n",
    "###########\n",
    "# 신경망 학습\n",
    "######\n",
    "\n",
    "sess = tf.Session()\n",
    "sess.run(tf.global_variables_initializer())\n",
    "\n",
    "# seq_data에 저장한 단어들을 입력값(처음 세글자)와 실측값(마지막 글자)로 분리\n",
    "input_batch, target_batch = make_batch(seq_data)\n",
    "\n",
    "for epoch in range(total_epoch):\n",
    "    _, loss = sess.run([optimizer, cost],\n",
    "                      feed_dict = {X: input_batch, Y: target_batch})\n",
    "    print('Epoch::','%04d' % (epoch + 1),\n",
    "         'cost = ','{:.6f}'.format(loss))\n",
    "\n",
    "print('최적화 완료!')\n",
    "\n",
    "\n",
    "\n",
    "# 예측단어와 정확도 출력\n",
    "# Y가 정수이기 때문에 agrmac로 변환한 예측값도 정수로 바꿈.\n",
    "prediction = tf.cast(tf.argmax(model, 1), tf.int32)\n",
    "prediction_check = tf.equal(prediction, Y)\n",
    "accuracy = tf.reduce_mean(tf.cast(prediction_check, tf.float32))\n",
    "\n",
    "# 예측 모델 실행\n",
    "input_batch, target_batch = make_batch(seq_data)\n",
    "predict, accuracy_val = sess.run([prediction, accuracy],\n",
    "                                feed_dict = {X: input_batch, Y: target_batch})\n"
   ]
  },
  {
   "cell_type": "code",
   "execution_count": 8,
   "metadata": {},
   "outputs": [
    {
     "name": "stdout",
     "output_type": "stream",
     "text": [
      "=======예측 결과=======\n",
      "입력값 :  ['wor ', 'woo ', 'dee ', 'div ', 'col ', 'coo ', 'loa ', 'lov ', 'kis ', 'kin ']\n",
      "예측값 :  ['word', 'wood', 'deep', 'dive', 'cold', 'cool', 'load', 'love', 'kiss', 'kind']\n",
      "정확도 :  1.0\n"
     ]
    }
   ],
   "source": [
    "# 모델이 예측한 값들을 가지고, 각각 값에 해당하는 인덱스의 알파벳을 가져와 예상 단어 출력\n",
    "\n",
    "predict_words = []\n",
    "for idx, val in enumerate(seq_data):\n",
    "    last_char = char_arr[predict[idx]]\n",
    "    predict_words.append(val[:3] + last_char)\n",
    "    \n",
    "print(\"=======예측 결과=======\")\n",
    "print(\"입력값 : \",[w[:3] + ' ' for w in seq_data])\n",
    "print(\"예측값 : \", predict_words)\n",
    "print('정확도 : ', accuracy_val)"
   ]
  },
  {
   "cell_type": "code",
   "execution_count": null,
   "metadata": {},
   "outputs": [],
   "source": []
  }
 ],
 "metadata": {
  "kernelspec": {
   "display_name": "deep",
   "language": "python",
   "name": "deep"
  },
  "language_info": {
   "codemirror_mode": {
    "name": "ipython",
    "version": 3
   },
   "file_extension": ".py",
   "mimetype": "text/x-python",
   "name": "python",
   "nbconvert_exporter": "python",
   "pygments_lexer": "ipython3",
   "version": "3.6.5"
  }
 },
 "nbformat": 4,
 "nbformat_minor": 2
}
