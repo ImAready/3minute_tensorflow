{
 "cells": [
  {
   "cell_type": "markdown",
   "metadata": {},
   "source": [
    "\n",
    "### 10. RNN\n",
    "\n",
    "- 이미지 인식\n",
    "    - CNN\n",
    "- 자연어 인식\n",
    "    - RNN (순환 신경망)\n",
    "\n",
    "- 특징\n",
    "    - 자연어 처리나 음성 인식처럼 순서가 있는 데이터를 처리하는데 강점\n",
    "        - 다른 신경망은 상태가 고정된 데이터를 처리한다.\n",
    "    - 어떤 문장 앞에 정보(단어, 문장)에 따라 전체 의미가 달라지거나, 앞의 정보로 다음 정보를 추측하는 경우\n",
    "    사용하기에 성능이 좋음\n",
    "    \n",
    "    \n",
    "\n",
    "#### 10.1 MNIST를 RNN으로\n",
    "\n",
    "기본적인 RNN 그림\n",
    "![RNN기본](./img/img1.JPG)\n",
    "\n",
    "셀 : 한 덩어리의 신경망  \n",
    "이 셀을 여러 개 중첩하여 심층 신경망을 만든다. 즉, 앞 단계에서 학습한 결과를 다음 단계 학습에 이용.  \n",
    "따라서 학습 데이터를 단계별로 구분하여 입력해야 한다.  \n",
    "-> MNIST 입력값도 단계별로 입력할 수 있도록 수정  \n",
    "    - MNIST 28*28 :가로 한 줄의 28픽셀을 한 단계의 입력값으로 삼고, 세로줄이 총 28개로 28단계\n",
    "\n",
    "\n",
    "![RNN_MNIST](./img/img2.JPG)\n",
    "\n"
   ]
  },
  {
   "cell_type": "code",
   "execution_count": 5,
   "metadata": {},
   "outputs": [
    {
     "name": "stdout",
     "output_type": "stream",
     "text": [
      "Extracting ..\\data\\mnist\\data\\train-images-idx3-ubyte.gz\n",
      "Extracting ..\\data\\mnist\\data\\train-labels-idx1-ubyte.gz\n",
      "Extracting ..\\data\\mnist\\data\\t10k-images-idx3-ubyte.gz\n",
      "Extracting ..\\data\\mnist\\data\\t10k-labels-idx1-ubyte.gz\n"
     ]
    }
   ],
   "source": [
    "import tensorflow as tf\n",
    "\n",
    "from tensorflow.examples.tutorials.mnist import input_data\n",
    "mnist = input_data.read_data_sets(\"..\\data\\mnist\\data\", one_hot = True)\n"
   ]
  },
  {
   "cell_type": "code",
   "execution_count": 6,
   "metadata": {},
   "outputs": [],
   "source": [
    "learning_rate = 0.001\n",
    "total_epoch = 30\n",
    "batch_size = 128\n",
    "\n",
    "n_input = 28  # 한 번에 입력받은 개수\n",
    "n_step = 28   # RNN 단계\n",
    "n_hidden = 128\n",
    "n_class = 10\n",
    "\n",
    "\n",
    "X = tf.placeholder(tf.float32, [None, n_step, n_input])\n",
    "Y = tf.placeholder(tf.float32, [None, n_class])\n",
    "W = tf.Variable(tf.random_normal([n_hidden, n_class]))\n",
    "b = tf.Variable(tf.random_normal([n_class]))\n"
   ]
  },
  {
   "cell_type": "code",
   "execution_count": 7,
   "metadata": {},
   "outputs": [],
   "source": [
    "\n",
    "# n_hidden개의 출력값을 같는 RNN 셀을 생성\n",
    "# 신경망 구성을 위해 BasicRNNCell 함수 사용 (BasicLSTMCell, GRUCell 등 다양한 방식의 셀이 있음)\n",
    "cell = tf.nn.rnn_cell.BasicRNNCell(n_hidden)\n"
   ]
  },
  {
   "cell_type": "markdown",
   "metadata": {},
   "source": [
    "\n",
    "RNN 기본 신경망은 긴 단계의 데이터를 학습할 때 맨 뒤에서는 맨 앞의 정보를 잘 기억하지 못한다.  \n",
    "이를 보완하기 위해 다양한 신경망 구조가 만들어졌고, 그중 가장 많이 사용 되는 것이 LSTM이다. (GRU는 구조가 좀 더 간단)"
   ]
  },
  {
   "cell_type": "code",
   "execution_count": 8,
   "metadata": {},
   "outputs": [],
   "source": [
    "\n",
    "# dynamic_rnn 함수를 이용해 RNN 신경망을 완성한다.\n",
    "# dynamic_rnn(생성한 셀, 입력값, 입력값의 자료형)\n",
    "outputs, states = tf.nn.dynamic_rnn(cell, X, dtype = tf.float32)\n",
    "\n"
   ]
  },
  {
   "cell_type": "markdown",
   "metadata": {},
   "source": [
    "실제로는 단계를 반복하는 과정을 거쳐야 한다.   \n",
    "\n",
    "states = tf.zeros(batch_size)  \n",
    "for i in range(n_step_):  \n",
    "    outputs, states = cell(X[[:, i]], states)  \n",
    "    ...  \n",
    "  \n",
    "dynamic_rnn 함수는 이 과정을 대신해 준다.(셀과 신경망 생성)"
   ]
  },
  {
   "cell_type": "code",
   "execution_count": 9,
   "metadata": {},
   "outputs": [],
   "source": [
    "\n",
    "# RNN에서 나온 출력값을 가지고 최종 출력값을 만든다.\n",
    "# 결과는 원-핫코딩 형태 => 손실함수로 softmax_cross_entropy_with_logits 사용\n",
    "# 위 손실함수를 쓰려면 최종 결과값이 실측값 Y와 동일하게 [batch_size, n_class]여야 한다.\n",
    "\n",
    "# outputs : [batch_size, n_step, n_hidden]\n",
    "# -> [n_step, batch_size, n_hidden]\n",
    "# n_step과 batch_size 차원 순서를 바꾸고\n",
    "outputs = tf.transpose(outputs, [1, 0, 2])  \n",
    "\n",
    "# -> [batch_size, n_hidden]\n",
    "# n_step 차원을 제거하여 마지막 단계 결과값만 얻음 \n",
    "outputs = outputs[-1]\n",
    "\n",
    "# 최종 결과값\n",
    "model = tf.matmul(outputs, W) + b\n"
   ]
  },
  {
   "cell_type": "code",
   "execution_count": 11,
   "metadata": {},
   "outputs": [],
   "source": [
    "# 손실 함수\n",
    "cost = tf.reduce_mean(tf.nn.softmax_cross_entropy_with_logits_v2(\n",
    "                    logits = model, labels = Y))\n",
    "# 최적화\n",
    "optimizer = tf.train.AdamOptimizer(learning_rate).minimize(cost)\n",
    "\n"
   ]
  },
  {
   "cell_type": "code",
   "execution_count": 13,
   "metadata": {},
   "outputs": [
    {
     "name": "stdout",
     "output_type": "stream",
     "text": [
      "Epoch:: 0001 Avg. Cost:: {:.3f}.format(total_cost / total_batch)\n",
      "Epoch:: 0002 Avg. Cost:: {:.3f}.format(total_cost / total_batch)\n",
      "Epoch:: 0003 Avg. Cost:: {:.3f}.format(total_cost / total_batch)\n",
      "Epoch:: 0004 Avg. Cost:: {:.3f}.format(total_cost / total_batch)\n",
      "Epoch:: 0005 Avg. Cost:: {:.3f}.format(total_cost / total_batch)\n",
      "Epoch:: 0006 Avg. Cost:: {:.3f}.format(total_cost / total_batch)\n",
      "Epoch:: 0007 Avg. Cost:: {:.3f}.format(total_cost / total_batch)\n",
      "Epoch:: 0008 Avg. Cost:: {:.3f}.format(total_cost / total_batch)\n",
      "Epoch:: 0009 Avg. Cost:: {:.3f}.format(total_cost / total_batch)\n",
      "Epoch:: 0010 Avg. Cost:: {:.3f}.format(total_cost / total_batch)\n",
      "Epoch:: 0011 Avg. Cost:: {:.3f}.format(total_cost / total_batch)\n",
      "Epoch:: 0012 Avg. Cost:: {:.3f}.format(total_cost / total_batch)\n",
      "Epoch:: 0013 Avg. Cost:: {:.3f}.format(total_cost / total_batch)\n",
      "Epoch:: 0014 Avg. Cost:: {:.3f}.format(total_cost / total_batch)\n",
      "Epoch:: 0015 Avg. Cost:: {:.3f}.format(total_cost / total_batch)\n",
      "Epoch:: 0016 Avg. Cost:: {:.3f}.format(total_cost / total_batch)\n",
      "Epoch:: 0017 Avg. Cost:: {:.3f}.format(total_cost / total_batch)\n",
      "Epoch:: 0018 Avg. Cost:: {:.3f}.format(total_cost / total_batch)\n",
      "Epoch:: 0019 Avg. Cost:: {:.3f}.format(total_cost / total_batch)\n",
      "Epoch:: 0020 Avg. Cost:: {:.3f}.format(total_cost / total_batch)\n",
      "Epoch:: 0021 Avg. Cost:: {:.3f}.format(total_cost / total_batch)\n",
      "Epoch:: 0022 Avg. Cost:: {:.3f}.format(total_cost / total_batch)\n",
      "Epoch:: 0023 Avg. Cost:: {:.3f}.format(total_cost / total_batch)\n",
      "Epoch:: 0024 Avg. Cost:: {:.3f}.format(total_cost / total_batch)\n",
      "Epoch:: 0025 Avg. Cost:: {:.3f}.format(total_cost / total_batch)\n",
      "Epoch:: 0026 Avg. Cost:: {:.3f}.format(total_cost / total_batch)\n",
      "Epoch:: 0027 Avg. Cost:: {:.3f}.format(total_cost / total_batch)\n",
      "Epoch:: 0028 Avg. Cost:: {:.3f}.format(total_cost / total_batch)\n",
      "Epoch:: 0029 Avg. Cost:: {:.3f}.format(total_cost / total_batch)\n",
      "Epoch:: 0030 Avg. Cost:: {:.3f}.format(total_cost / total_batch)\n",
      "최적화 완료\n",
      "정확도:: 0.9667\n"
     ]
    }
   ],
   "source": [
    "# 결과 확인\n",
    "\n",
    "sess = tf.Session()\n",
    "sess.run(tf.global_variables_initializer())\n",
    "\n",
    "total_batch = int(mnist.train.num_examples / batch_size)\n",
    "\n",
    "for epoch in range(total_epoch):\n",
    "    total_cost = 0\n",
    "    \n",
    "    for i in range(total_batch):\n",
    "        batch_xs, batch_ys = mnist.train.next_batch(batch_size)\n",
    "        # 입력값 형태 변환\n",
    "        batch_xs = batch_xs.reshape((batch_size, n_step, n_input))\n",
    "        \n",
    "        _, cost_val = sess.run([optimizer, cost],\n",
    "                              feed_dict={X: batch_xs, Y: batch_ys})\n",
    "        total_cost += cost_val\n",
    "    print('Epoch::', '%04d' % (epoch + 1),\n",
    "         'Avg. Cost::','{:.3f}.format(total_cost / total_batch)')\n",
    "    \n",
    "print('최적화 완료')\n",
    "\n",
    "is_correct = tf.equal(tf.argmax(model, 1), tf.argmax(Y, 1))\n",
    "accuracy = tf.reduce_mean(tf.cast(is_correct, tf.float32))\n",
    "\n",
    "test_batch_size = len(mnist.test.images)\n",
    "test_xs = mnist.test.images.reshape(test_batch_size, n_step, n_input)\n",
    "test_ys = mnist.test.labels\n",
    "\n",
    "print('정확도::', sess.run(accuracy, \n",
    "                       feed_dict={X:test_xs, Y:test_ys}))"
   ]
  },
  {
   "cell_type": "code",
   "execution_count": null,
   "metadata": {},
   "outputs": [],
   "source": []
  }
 ],
 "metadata": {
  "kernelspec": {
   "display_name": "deep",
   "language": "python",
   "name": "deep"
  },
  "language_info": {
   "codemirror_mode": {
    "name": "ipython",
    "version": 3
   },
   "file_extension": ".py",
   "mimetype": "text/x-python",
   "name": "python",
   "nbconvert_exporter": "python",
   "pygments_lexer": "ipython3",
   "version": "3.6.5"
  }
 },
 "nbformat": 4,
 "nbformat_minor": 2
}
