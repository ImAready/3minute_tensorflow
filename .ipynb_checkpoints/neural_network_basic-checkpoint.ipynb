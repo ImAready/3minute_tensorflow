{
 "cells": [
  {
   "cell_type": "markdown",
   "metadata": {},
   "source": [
    "\n",
    "### 4. 기본 신경망\n",
    "\n",
    "\n",
    "#### 4.1 인공신경망의 작동 원리\n",
    "\n",
    "**인공신경망**의 개념은 뇌를 구성하는 신경 세포, 즉 **뉴런**의 동작 원리에 기초한다.\n",
    "\n",
    "뉴런의 기본 원리는 매우 간단하다.\n",
    "\n",
    "![뉴런](./img/4/img5.JPG)\n",
    "\n",
    "\n",
    "가지돌기에서 신호를 받아들이고, 이 신호가 축삭돌기를 지나 축삭말단으로 전달되는 것이다. \n",
    "\n",
    "그런데 축삭돌기를 지나는 동안 신호가 약해지거나, 너무 약해서 축삭말단까지 전달되지 않거나, 또는 강하게 전달되기도 한다. 이 축삭말단까지 전달된 신호는 연결된 다음 뉴런의 가지돌기로 전달된다.\n",
    "\n",
    "이런 뉴런과 신경망의 원리에 인공 뉴런의 개념을 덧씌우면 아래 그림과 같다.\n",
    "\n",
    "![뉴런과 인공뉴런](./img/4/img6.JPG)\n",
    "\n",
    "위 그림과 같이 입력 신호, 즉 입력값 X에 가중치(W)를 곱하고 편향(b)을 더한 뒤 활성화 함수(Sigmoid, ReLu등)을 거쳐 결과값 y를 만들어 내는 것.\n",
    "\n",
    "이것이 인공 뉴런의 기본이다. 그리고 원하는 y값을 만들어내기 위해 W와 b의 값을 변경해가면서 적절한 값을 찾아내는 \n",
    "\n",
    "최적화 과정을 **학습**또는 **훈련**이라고 한다.\n",
    "\n",
    "![인공뉴런 수식 표현](./img/4/img7.JPG)\n",
    "\n",
    "\n",
    "**활성화 함수**는 인공신경망을 통과해온 값을 최종적으로 어떤 값으로 만들지를 결정한다. 즉, 이 함수가 바로 인공 뉴런의 핵심중에서\n",
    "\n",
    "가장 중요한 요소이다. 대표적으로는 *Sigmoid, ReLu, tanh* 함수가 있고 그래프는 아래와 같다.\n",
    "\n",
    "![활성화함수 그래프](./img/4/img8.JPG)\n",
    "\n",
    "최근에는 ReLu 함수를 많이 사용한다. 하지만 학습 목적에 따라 다른 함수를 써야 하는 경우가 있으니 그래프를 눈여겨보자.\n",
    "\n",
    "![인공신경망](./img/4/img9.JPG)\n",
    "\n",
    "수천 수만 개의 W와 값의 조합을 일일이 변경해가면서 계산하려면 매우 오랜 시간이 걸려 과거에는 유의미한 신경망을 만들기란 거의 불가능하다고 여겼다.\n",
    "\n",
    "하지만 한 교수가 **제한된 볼트만 머신**이라는 신경망 학습 알고리즘을 개발했고 다시 한번 신경망이 주목받았고, ReLu, 드롭아웃 기법 등 활성화 함수들이 개발되었다.\n",
    "\n",
    "이렇게 발전해온 알고리즘의 중심에는 **역전파**가 있다. 역전파는 *출력층이 내놓은 결과의 오차를 신경망을 따라 입력층까지 역으로 전파하여 계산해나가는 방식*이다.\n",
    "\n",
    "이 방식은 입력층부터 가중치를 조절해가는 기존 방식보다 훨씬 유의미한 방식으로 가중치를 조절해줘서 최적화 과정이 훨씬 빠르고 정확해진다.\n",
    "\n",
    "\n",
    "![역전파](./img/4/img10.JPG)\n",
    "\n",
    "거의 항상 적용해야하는 알고리즘이. \n",
    "\n",
    "\n",
    "#### 4.2 간단한 분류 모델 구현\n",
    "**분류** : 패턴을 파악해 여러 종류로 구분하는 작업\n",
    "\n",
    "* 예제) 털과 날개가 있느냐를 기준으로 포유류, 조류 구분"
   ]
  },
  {
   "cell_type": "code",
   "execution_count": 1,
   "metadata": {},
   "outputs": [],
   "source": [
    "import tensorflow as tf\n",
    "import numpy as np\n",
    "\n",
    "# 데이터 정의 [털 , 날개]  1: 있다. 0: 없다.\n",
    "x_data = np.array([[0, 0], [1, 0], [1, 1], [0, 0], [0, 0], [0, 1]])\n"
   ]
  },
  {
   "cell_type": "markdown",
   "metadata": {},
   "source": [
    "이제 실제 어떤 종류인지를 나타내는 레이블(분류값) 데이터 구성한다.  \n",
    "위에서 정의한 특징 데이터의 각 개체가 포유류인지 조류인지 아니면 3종류인지 실제 결과값이다.  \n",
    "레이블 데이터는 one-hot-encoding이라는 형태로 구성된다.  \n",
    "데이터가 가질 수 있는 값들을 일렬로 나열한 배열을 만들고 그 중 표현하려는 값을 뜻하는 원소만 1로 표기하고 나머지 모든 원소는 0으로 채우는 표기법이다.  \n",
    "\n",
    "예를 들어, 판별하고자하는 개체의 종류가 기타, 포유류, 조류 세가지이고 이를 배열에 넣으면 [기타, 포유류, 조류]가 될 것이다.\n",
    "\n",
    "그러면 각 인덱스에 1로 값을 뜻하게 한다.\n",
    "기타 = [1, 0, 0]  \n",
    "포유류 = [0, 1, 0]  \n",
    "조류 = [0, 0, 1]  \n"
   ]
  },
  {
   "cell_type": "code",
   "execution_count": 2,
   "metadata": {},
   "outputs": [],
   "source": [
    "# 정답 레이블\n",
    "y_data = np.array([\n",
    "    [1, 0, 0],\n",
    "    [0, 1, 0],\n",
    "    [0, 0, 1],\n",
    "    [1, 0, 0],\n",
    "    [1, 0, 0],\n",
    "    [0, 0, 1]\n",
    "])"
   ]
  },
  {
   "cell_type": "markdown",
   "metadata": {},
   "source": [
    "\n",
    "이렇게 구성된 데이터와 레이블은 아래와 같은 연관관계를 갖게된다.\n",
    "[0, 0] -> [1, 0, 0]  # 기타  \n",
    "[1, 0] -> [0, 1, 0]  # 포유류  \n",
    "[1, 1] -> [0, 0, 1]  # 조류  \n",
    "[0, 0] -> [1, 0, 0]  # 기타  \n",
    "[0, 0] -> [1, 0, 0]  # 기타  \n",
    "[0, 1] -> [0, 0, 1]  # 조류  \n",
    "\n",
    "-----------\n",
    "이제 신경망 모델을 구성한다. 특징 X와 레이블 Y와의 관계를 알아내는 모델이다.\n",
    "\n",
    "이때 X와 Y에 실측값을 넣어서 학습시킬 것이기때문에 X와 Y는 플레이스홀더로 설정한다.\n"
   ]
  },
  {
   "cell_type": "code",
   "execution_count": 3,
   "metadata": {},
   "outputs": [],
   "source": [
    "#########\n",
    "# 신경망 모델 구성\n",
    "######\n",
    "\n",
    "X = tf.placeholder(tf.float32)\n",
    "Y = tf.placeholder(tf.float32)\n",
    "\n",
    "# 신경망을 결정하는 가중치와 편향 변수 설정. 이 변수들의 값을 여러가지로 바꿔가면서 X와 Y의 연관 관계를 학습하게 된다.\n",
    "# 가중치 = [입력층(특징 수), 출력층(레이블 수)] -> [2, 3]\n",
    "W = tf.Variable(tf.random_uniform([2, 3], -1, 1))\n",
    "\n",
    "# 편향 = 각 레이어의 아웃풋 개수로 설정. 즉 레이블 수(최종 결과 분류 갯수)인 3개의 요소를 가진다.\n",
    "b = tf.Variable(tf.zeros([3]))\n",
    "\n",
    "# 가중치를 곱하고 편향을 더한 결과를\n",
    "L = tf.add(tf.matmul(X, W), b)\n",
    "\n",
    "# 활성화 함수 ReLu에 적용\n",
    "L = tf.nn.relu(L)\n"
   ]
  },
  {
   "cell_type": "markdown",
   "metadata": {},
   "source": [
    "\n",
    "![신경망 구성](./img/4/img11.JPG)\n",
    "\n",
    "-------\n",
    "마지막으로 softmax 함수를 이용해 출력값을 사용하기 쉽게 만든다.  \n",
    "**softmax**\n",
    "* 결과값을 전체 합이 1인 확률로 만들어주는 함수  \n",
    "* 예) [8.04, 2.76, -6.52] -> [0.53 0.24 0.23]"
   ]
  },
  {
   "cell_type": "code",
   "execution_count": 4,
   "metadata": {},
   "outputs": [],
   "source": [
    "# softmax 함수 적용\n",
    "model = tf.nn.softmax(L)\n"
   ]
  },
  {
   "cell_type": "markdown",
   "metadata": {},
   "source": [
    "\n",
    "-----------\n",
    "이제 손실함수를 작성한다.  (= 비용함수)  \n",
    "손실 함수는 *원-핫 인코딩을 이용한 대부분의 모델에서 사용*하는 **교차 엔트로피** 함수를 사용했다.  \n",
    "교차 엔트로피 값은 예측값과 실제값 사이의 확률 분포 차이를 계산한 값이다.\n",
    "\n",
    "\n",
    "신경망을 최적화하기 위한 비용 함수를 작성해본다.  \n",
    "각 개별 결과에 대한 합을 구한 뒤 평균을 내는 방식을 사용한다.  \n",
    "전체 합이 아닌, 개별 결과를 구한 뒤 평균을 내는 방식을 사용하기 위해 axis 옵션 사용한다.  \n",
    "axis 옵션이 없으면 -1.09 처럼 스칼라값으로 출력된다.  \n",
    "\n",
    "\n",
    "      Y    model       Y * tf.log(model)  reduce_sum(axis=1)  \n",
    "예) [[1 0 0]  [[0.1 0.7 0.2]    ->   [[-1.0  0    0]    ->   [-1.0, -0.09]  \n",
    ".....   [0 1 0]]  [0.2 0.8 0.0]] ...    [ 0   -0.09 0]]   \n",
    "    즉, 이것은 예측값과 실제값 사이의 확률 분포의 차이를 비용으로 계산한 것이며,  \n",
    "    이것을 Cross-Entropy 라고 한다.  "
   ]
  },
  {
   "cell_type": "code",
   "execution_count": 5,
   "metadata": {},
   "outputs": [],
   "source": [
    "cost = tf.reduce_mean(-tf.reduce_sum(Y * tf.log(model), axis=1))"
   ]
  },
  {
   "cell_type": "markdown",
   "metadata": {},
   "source": [
    "![](./img/4/img1.JPG)\n",
    "![](./img/4/img2.JPG)\n",
    "\n",
    "위 결과가 손실값인 교차 엔트로피 값이 된다.\n",
    "\n",
    "**!** reduce_xxx 함수들은 텐서의 차원을 줄여준다. xxx부분이 구체적인 차원 축소 방법을 뜻하고, axis 매개변수로 축소할 차원을 정한다.  \n",
    "예로 reduce_sum((입력텐서),axis=1)은 주어진 텐서의 1번째 차원 값들을 더해서(값 1개로 만들어서) 그 차원을 없앤다는 뜻.  \n",
    "\n",
    "--------\n",
    "이제 학습을 시켜본다.  \n",
    "텐서플로가 제공하는 최적화 함수를 사용했다.  \n",
    "\n"
   ]
  },
  {
   "cell_type": "code",
   "execution_count": 6,
   "metadata": {},
   "outputs": [
    {
     "name": "stdout",
     "output_type": "stream",
     "text": [
      "10 1.1660948\n",
      "20 1.1614379\n",
      "30 1.156914\n",
      "40 1.1525179\n",
      "50 1.1483079\n",
      "60 1.1462903\n",
      "70 1.1443051\n",
      "80 1.1429543\n",
      "90 1.141636\n",
      "100 1.1403394\n"
     ]
    }
   ],
   "source": [
    "# 기본적인 경사하강법으로 최적화\n",
    "optimizer = tf.train.GradientDescentOptimizer(learning_rate = 0.01)\n",
    "train_op = optimizer.minimize(cost)\n",
    "\n",
    "# 텐서플로의 세션을 초기화\n",
    "init = tf.global_variables_initializer()\n",
    "sess = tf.Session()\n",
    "sess.run(init)\n",
    "\n",
    "# 앞 서 구성한 특징과 레이블 데이터를 이용해 100번 학습\n",
    "for step in range(100):\n",
    "    sess.run(train_op, feed_dict={X: x_data, Y:y_data})\n",
    "    \n",
    "    # 학습 도중 10번에 한번씩 손실값을 출력해본다.\n",
    "    if(step + 1) % 10 == 0:\n",
    "        print(step + 1, sess.run(cost, feed_dict={X: x_data, Y: y_data}))"
   ]
  },
  {
   "cell_type": "markdown",
   "metadata": {},
   "source": [
    "----------\n",
    "학습된 결과를 확인해본다.\n",
    "\n",
    "**argmax** : 요소 중 가장 큰 값의 인덱스를 찾는다."
   ]
  },
  {
   "cell_type": "code",
   "execution_count": 7,
   "metadata": {},
   "outputs": [
    {
     "name": "stdout",
     "output_type": "stream",
     "text": [
      "예측값:: [0 2 0 0 0 0]\n",
      "실제값:: [0 1 2 0 0 2]\n"
     ]
    }
   ],
   "source": [
    "prediction = tf.argmax(model, axis=1)\n",
    "target = tf.argmax(Y, axis=1)\n",
    "\n",
    "print('예측값::', sess.run(prediction, feed_dict={X: x_data}))\n",
    "print('실제값::', sess.run(target, feed_dict={Y: y_data}))"
   ]
  },
  {
   "cell_type": "markdown",
   "metadata": {},
   "source": [
    "\n",
    "-----------\n",
    "정확도를 출력해본다.\n"
   ]
  },
  {
   "cell_type": "code",
   "execution_count": 8,
   "metadata": {},
   "outputs": [
    {
     "name": "stdout",
     "output_type": "stream",
     "text": [
      "정확도:: 50.00\n"
     ]
    }
   ],
   "source": [
    "is_correct = tf.equal(prediction, target)\n",
    "accuracy = tf.reduce_mean(tf.cast(is_correct, tf.float32))\n",
    "\n",
    "print('정확도:: %.2f'% sess.run(accuracy * 100, feed_dict={X: x_data, Y: y_data}) )"
   ]
  },
  {
   "cell_type": "markdown",
   "metadata": {},
   "source": [
    "\n",
    "---\n",
    "첫번째 정확도 33.33  \n",
    "두번째 정확도 83.33  \n",
    "\n",
    "하지만 신경망이 한 층밖에 안되기 때문에 정확도를 크게 높아지지 않는다.  \n",
    "\n",
    "  \n",
    "\n",
    "#### 4.3 심층 신경망 구현\n",
    "\n",
    "신경망 층을 2이상으로 구성해본다.  \n",
    "\n",
    "앞서 만든 신경망 모델에 가중치와 편향을 추가하기만 하면 된다.  "
   ]
  },
  {
   "cell_type": "code",
   "execution_count": 10,
   "metadata": {},
   "outputs": [],
   "source": [
    "W1 = tf.Variable(tf.random_uniform([2, 10], -1., 1.))    # [특징, 은닉층 뉴런 수]\n",
    "W2 = tf.Variable(tf.random_uniform([10, 3], -1., 1.))    # [은닉층 뉴런 수, 분류 수]\n",
    "\n",
    "b1 = tf.Variable(tf.zeros([10]))    # 은닉층 뉴런 수\n",
    "b2 = tf.Variable(tf.zeros([3]))     # 분류 수"
   ]
  },
  {
   "cell_type": "markdown",
   "metadata": {},
   "source": [
    "\n",
    "은닉층 수는 **하이퍼파라미터**로 실험을 통해 적절하게 맞춰간다.  \n",
    "\n",
    "![](./img/4/img3.JPG)\n",
    "\n",
    "\n",
    "----------\n",
    "특징 입력값에 첫번째 가중치와 편향, 활성화 함수를 적용한다.\n"
   ]
  },
  {
   "cell_type": "code",
   "execution_count": 15,
   "metadata": {},
   "outputs": [],
   "source": [
    "L1 = tf.add(tf.matmul(X, W1), b1)\n",
    "L1 = tf.nn.relu(L1)\n"
   ]
  },
  {
   "cell_type": "markdown",
   "metadata": {},
   "source": [
    "\n",
    "-------\n",
    "출력층을 만들기 휘애 두번째 가중치와 편향을 적용하여 최종 모델을 만든다.  \n",
    "은닉층에 W2[10,3]과 b2[3]를 적용하면 최종적으로 3개의 출력값이 나온다."
   ]
  },
  {
   "cell_type": "code",
   "execution_count": 16,
   "metadata": {},
   "outputs": [],
   "source": [
    "model = tf.add(tf.matmul(L1, W2),b2)"
   ]
  },
  {
   "cell_type": "markdown",
   "metadata": {},
   "source": [
    "\n",
    "**!** 앞 절에서는 출력층에 활성화 함수를 적용했다. 사실 *출력층에는 보통 활성화 함수를 사용하지 않는다.* 하이퍼파라미터와 은닉층, 출력층에서 활성화 함수를 사용할지 말지, 어떤 활성화 함수를 사용할지 정하는 일은 신경망 모델을 만드는데 중요한 요소이다.\n",
    "\n",
    "----------------\n",
    "손실 함수를 작성한다. 텐서플로에서 제공하는 교차 엔트로피를 사용했다.  \n"
   ]
  },
  {
   "cell_type": "code",
   "execution_count": 18,
   "metadata": {},
   "outputs": [],
   "source": [
    "cost = tf.reduce_mean(\n",
    "    tf.nn.softmax_cross_entropy_with_logits_v2(labels=Y, logits=model))\n",
    "\n",
    "optimizer = tf.train.AdamOptimizer(learning_rate = 0.01)\n",
    "train_op = optimizer.minimize(cost)\n"
   ]
  },
  {
   "cell_type": "markdown",
   "metadata": {},
   "source": [
    "\n",
    "최적화 함수로 AdamOptimizer를 사용했다.  \n",
    "**사용하는 최적화 함수에 따라 정확도와 학습 속도 차이가 있다.**  \n",
    "앞서 사용한 경사하강법 함수보다 보편적으로 성능이 좋다.   \n",
    "하지만 모든 경우는 아님!\n",
    "\n",
    "--------\n",
    "학습을 진행한다.\n"
   ]
  },
  {
   "cell_type": "code",
   "execution_count": 19,
   "metadata": {},
   "outputs": [
    {
     "name": "stdout",
     "output_type": "stream",
     "text": [
      "10 0.8854676\n",
      "20 0.7713018\n",
      "30 0.65574795\n",
      "40 0.5467977\n",
      "50 0.4479569\n",
      "60 0.3565537\n",
      "70 0.2715992\n",
      "80 0.20138343\n",
      "90 0.14809884\n",
      "100 0.109934665\n",
      "예측값:: [0 1 2 0 0 2]\n",
      "실제값:: [0 1 2 0 0 2]\n",
      "정확도:: 100.00\n"
     ]
    }
   ],
   "source": [
    "# 텐서플로의 세션을 초기화\n",
    "init = tf.global_variables_initializer()\n",
    "sess = tf.Session()\n",
    "sess.run(init)\n",
    "\n",
    "# 앞 서 구성한 특징과 레이블 데이터를 이용해 100번 학습\n",
    "for step in range(100):\n",
    "    sess.run(train_op, feed_dict={X: x_data, Y:y_data})\n",
    "    \n",
    "    # 학습 도중 10번에 한번씩 손실값을 출력해본다.\n",
    "    if(step + 1) % 10 == 0:\n",
    "        print(step + 1, sess.run(cost, feed_dict={X: x_data, Y: y_data}))\n",
    "\n",
    "        \n",
    "prediction = tf.argmax(model, axis=1)\n",
    "target = tf.argmax(Y, axis=1)\n",
    "\n",
    "print('예측값::', sess.run(prediction, feed_dict={X: x_data}))\n",
    "print('실제값::', sess.run(target, feed_dict={Y: y_data}))\n",
    "\n",
    "is_correct = tf.equal(prediction, target)\n",
    "accuracy = tf.reduce_mean(tf.cast(is_correct, tf.float32))\n",
    "\n",
    "print('정확도:: %.2f'% sess.run(accuracy * 100, feed_dict={X: x_data, Y: y_data}) )"
   ]
  },
  {
   "cell_type": "code",
   "execution_count": null,
   "metadata": {},
   "outputs": [],
   "source": []
  }
 ],
 "metadata": {
  "kernelspec": {
   "display_name": "deep",
   "language": "python",
   "name": "deep"
  },
  "language_info": {
   "codemirror_mode": {
    "name": "ipython",
    "version": 3
   },
   "file_extension": ".py",
   "mimetype": "text/x-python",
   "name": "python",
   "nbconvert_exporter": "python",
   "pygments_lexer": "ipython3",
   "version": "3.6.5"
  }
 },
 "nbformat": 4,
 "nbformat_minor": 2
}
