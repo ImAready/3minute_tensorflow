{
 "cells": [
  {
   "cell_type": "markdown",
   "metadata": {},
   "source": [
    "\n",
    "### 5. 텐서보드와 모델 재사용\n",
    "\n",
    "#### 5.1 학습 모델 저장 및 재사용\n",
    "\n",
    "앞 장의 데이터를 CSV 파일로 분리한 뒤 해당 파일을 읽어 들여 사용해본다.  \n",
    "\n",
    "데이터를 data.csv 파일로 저장한다. 한글이 있으면 문제가 생길 수 있음.  \n",
    "\n",
    "\n",
    "--------\n",
    "데이터를 읽어 들이고 변환한다.\n"
   ]
  },
  {
   "cell_type": "code",
   "execution_count": 1,
   "metadata": {},
   "outputs": [],
   "source": [
    "import tensorflow as tf\n",
    "import numpy as np\n",
    "\n",
    "data= np.loadtxt('.\\data\\data.csv', delimiter=',', unpack=True, dtype='float32')\n",
    "\n",
    "x_data = np.transpose(data[0:2])\n",
    "y_data = np.transpose(data[2:])\n"
   ]
  },
  {
   "cell_type": "markdown",
   "metadata": {},
   "source": [
    "loadtxt 함수의 nupack 매개변수, transpose 함수의 데이터 구조 변환   \n",
    "\n",
    "![데이터 변환](./img/5/img1.JPG)\n",
    "\n",
    "\n",
    "읽어 들이거나 잘라낸 데이터의 행과 열을 뒤바꿔주는 옵션과 함수이다.  \n",
    "딥러닝에서는 행과 열을 상황에 맞게 변환하는 일이 잦다.  \n",
    "\n",
    "-------------\n",
    "신경망 모델 구성  \n"
   ]
  },
  {
   "cell_type": "code",
   "execution_count": 2,
   "metadata": {},
   "outputs": [],
   "source": [
    "\n",
    "# 모델을 저장할 때 쓸 변수 생성\n",
    "# 직접 사용되지는 않고, 학습 횟수를 카운트 한다.\n",
    "global_step = tf.Variable(0, trainable=False, name='global_step')"
   ]
  },
  {
   "cell_type": "markdown",
   "metadata": {},
   "source": [
    "\n",
    "----\n",
    "앞 장보다 계층을 하나 더 늘리고, 편향 없이 가중치만 사용한다."
   ]
  },
  {
   "cell_type": "code",
   "execution_count": 3,
   "metadata": {},
   "outputs": [],
   "source": [
    "\n",
    "X = tf.placeholder(tf.float32)\n",
    "Y = tf.placeholder(tf.float32)\n",
    "\n",
    "W1 = tf.Variable(tf.random_uniform([2, 10], -1., 1.))\n",
    "L1 = tf.nn.relu(tf.matmul(X, W1))    # 편향 없음\n",
    "\n",
    "W2 = tf.Variable(tf.random_uniform([10, 20], -1., 1.))\n",
    "L2 = tf.nn.relu(tf.matmul(L1, W2))\n",
    "\n",
    "W3 = tf.Variable(tf.random_uniform([20, 3], -1., 1.))\n",
    "model = tf.nn.relu(tf.matmul(L2, W3))\n",
    "\n",
    "\n",
    "cost = tf.reduce_mean(tf.nn.softmax_cross_entropy_with_logits_v2(labels=Y, logits=model))\n",
    "\n",
    "optimizer = tf.train.AdamOptimizer(learning_rate = 0.01)\n",
    "# global_step 변수를 넘겨주면 최적화 함수가 학습용 변수들을 최적화 할 때마다 해당 변수 값을 1씩 증가시킨다.\n",
    "train_op = optimizer.minimize(cost, global_step=global_step)"
   ]
  },
  {
   "cell_type": "markdown",
   "metadata": {},
   "source": [
    "\n",
    "**!** 신경망의 계층 수와 은닉층 뉴런 수(예제 [10, 20] 부분)를 늘리면 복잡도가 높은 문제를 해결하는데 도움됨.  \n",
    "**하지만 무조건 항상 도움 되지는 않음** -> **과적합** 문제 발생 가능  \n",
    "모델 구성에서 계층과 뉴런 수를 최적화 하는 것이 중요!!  \n",
    "\n",
    "\n",
    "----\n",
    "세션을 열고 최적화를 실행한다.  \n",
    "모델을 불러들이고 저장하는 코드\n"
   ]
  },
  {
   "cell_type": "code",
   "execution_count": 4,
   "metadata": {},
   "outputs": [],
   "source": [
    "sess = tf.Session()\n",
    "\n",
    "# global+variables() : 앞서 정의한 변수들을 가져오는 함수. \n",
    "# 정의한 변수를 모두 가져와서 이 변수들을 파일에 저장하거나 이전 학습한 결과를 불러와 담는 변수들로 사용한다.\n",
    "saver = tf.train.Saver(tf.global_variables())"
   ]
  },
  {
   "cell_type": "markdown",
   "metadata": {},
   "source": [
    "\n",
    "----\n",
    "./model 디렉코리에 기존에 학습해둔 모델이 있는지 확인한다.  \n",
    "모델이 있으면 saver.restore 함수로 불러오고, 아니면 변수를 새로 초기화한다.   \n",
    "학습된 모델을 저장한 파일을 **체크포인트 파일**이라고 한다."
   ]
  },
  {
   "cell_type": "code",
   "execution_count": 5,
   "metadata": {},
   "outputs": [
    {
     "name": "stdout",
     "output_type": "stream",
     "text": [
      "INFO:tensorflow:Restoring parameters from .\\model\\dnn.ckpt-12\n"
     ]
    }
   ],
   "source": [
    "\n",
    "ckpt = tf.train.get_checkpoint_state('.\\model')\n",
    "if ckpt and tf.train.checkpoint_exists(ckpt.model_checkpoint_path):\n",
    "    saver.restore(sess, ckpt.model_checkpoint_path)\n",
    "else:\n",
    "    sess.run(tf.global_variables_initializer())"
   ]
  },
  {
   "cell_type": "markdown",
   "metadata": {},
   "source": [
    "\n",
    "-------------\n",
    "최적화를 수행한다.  \n",
    "앞 장과 달리 step -> global_step(텐서 타입 변수) 값으로 학습 횟수를 출력한다."
   ]
  },
  {
   "cell_type": "code",
   "execution_count": 8,
   "metadata": {},
   "outputs": [
    {
     "name": "stdout",
     "output_type": "stream",
     "text": [
      "Step: 17 Cost: 1.117\n",
      "Step: 18 Cost: 1.107\n",
      "예측값:: [0 0 2 0 0 1]\n",
      "실제값:: [0 1 2 0 0 2]\n",
      "정확도:: 66.67\n"
     ]
    }
   ],
   "source": [
    "# 재 학습 결과를 알기위해 2번 학습한다.\n",
    "for step in range(2):\n",
    "    sess.run(train_op, feed_dict={X: x_data, Y: y_data})\n",
    "    \n",
    "    print('Step: %d' % sess.run(global_step),\n",
    "         'Cost: %.3f' % sess.run(cost, feed_dict={X: x_data, Y: y_data}))\n",
    "\n",
    "# 최적화가 끝난 뒤 학습된 변수들을 지정한 체크포인트 파일에 저장\n",
    "# global_step 값은 저장할 파일 이름에 추가로 붙는다. 텐서 변수 또는 숫자를 넣을 수 있다.\n",
    "# 이를 이용해 여러 체크포인트를 만들 수 있다.\n",
    "saver.save(sess, '.\\model\\dnn.ckpt', global_step=global_step)\n",
    "\n",
    "\n",
    "# 예측 결과와 정확도를 확인한다.\n",
    "prediction = tf.argmax(model, 1)\n",
    "target = tf.argmax(Y, 1)\n",
    "\n",
    "print('예측값::', sess.run(prediction, feed_dict={X: x_data}))\n",
    "print('실제값::', sess.run(target, feed_dict={Y: y_data}))\n",
    "\n",
    "is_correct = tf.equal(prediction, target)\n",
    "accuracy = tf.reduce_mean(tf.cast(is_correct, tf.float32))\n",
    "\n",
    "print('정확도:: %.2f' % sess.run(accuracy * 100, feed_dict={X: x_data, Y: y_data}))\n"
   ]
  },
  {
   "cell_type": "markdown",
   "metadata": {},
   "source": [
    "\n",
    "첫 번째 결과  \n",
    "Step: 1 Cost: 1.360  \n",
    "Step: 2 Cost: 1.279  \n",
    "예측값:: [0 1 1 0 0 0]  \n",
    "실제값:: [0 1 2 0 0 2]  \n",
    "정확도:: 66.67  \n",
    "\n",
    "\n",
    "두 번째 결과  \n",
    "Step: 3 Cost: 1.211  \n",
    "Step: 4 Cost: 1.150  \n",
    "예측값:: [0 1 1 0 0 0]  \n",
    "실제값:: [0 1 2 0 0 2]  \n",
    "정확도:: 66.67  \n",
    "\n",
    "총 2번 새로 시작했지만 global_step으로 저장한 값을 불러와서 증가시켜 3부터 시작한다. \n",
    "\n",
    "\n",
    "#### 5.2 텐서보드 사용하기\n"
   ]
  },
  {
   "cell_type": "code",
   "execution_count": 1,
   "metadata": {},
   "outputs": [],
   "source": [
    "import tensorflow as tf\n",
    "import numpy as np\n",
    "\n",
    "data= np.loadtxt('.\\data\\data.csv', delimiter=',', unpack=True, dtype='float32')\n",
    "\n",
    "x_data = np.transpose(data[0:2])\n",
    "y_data = np.transpose(data[2:])\n",
    "\n",
    "global_step = tf.Variable(0, trainable=True, name='global_step')\n",
    "\n",
    "X = tf.placeholder(tf.float32)\n",
    "Y = tf.placeholder(tf.float32)"
   ]
  },
  {
   "cell_type": "code",
   "execution_count": 2,
   "metadata": {},
   "outputs": [],
   "source": [
    "# 신경망의 각 계층에 다음 코드를 덧붙여준다.\n",
    "with tf.name_scope('layer1'):\n",
    "    W1 = tf.Variable(tf.random_uniform([2, 10], -1., 1.), name='W1')\n",
    "    L1 = tf.nn.relu(tf.matmul(X, W1))\n",
    "    # 텐서보드 DISTRIBUTIONS, HISTOGRAMS 메뉴\n",
    "    tf.summary.histogram('Weights', W1)"
   ]
  },
  {
   "cell_type": "markdown",
   "metadata": {},
   "source": [
    "\n",
    "with tf.name_scope 로 묶은 블록은 텐서보드에서 한 계층 내부를 표현해준다.  \n",
    "name='W1'으로 이름붙이면 텐서보드에서 쉽게 확인 가능.  \n",
    "\n",
    "*플레이스홀더, 연산, 함수 등 모든 텐서에 붙일 수 있다.*  \n"
   ]
  },
  {
   "cell_type": "code",
   "execution_count": 3,
   "metadata": {},
   "outputs": [],
   "source": [
    "with tf.name_scope('layer2'):\n",
    "    W2 = tf.Variable(tf.random_uniform([10, 20], -1., 1.), name='W2')\n",
    "    L2 = tf.nn.relu(tf.matmul(L1, W2))\n",
    "    \n",
    "with tf.name_scope('output'):\n",
    "    W3 = tf.Variable(tf.random_uniform([20, 3], -1., 1.), name='W3')\n",
    "    model = tf.nn.relu(tf.matmul(L2, W3))\n",
    "\n",
    "with tf.name_scope('optimizer'):\n",
    "    cost = tf.reduce_mean(\n",
    "        tf.nn.softmax_cross_entropy_with_logits_v2(labels=Y, logits=model))\n",
    "    \n",
    "    optimizer = tf.train.AdamOptimizer(learning_rate = 0.01)\n",
    "    train_op = optimizer.minimize(cost, global_step=global_step)\n",
    "    \n",
    "    # 손실값을 추적하기 위해 수직할 값 지정\n",
    "    tf.summary.scalar('cost', cost)"
   ]
  },
  {
   "cell_type": "markdown",
   "metadata": {},
   "source": [
    "tf.summary.scalar : 값이 하나인 텐서를 수집할 때 사용  \n",
    "\n",
    "----------\n",
    "모델을 불러들이거나 초기화 한다."
   ]
  },
  {
   "cell_type": "code",
   "execution_count": 4,
   "metadata": {},
   "outputs": [
    {
     "name": "stdout",
     "output_type": "stream",
     "text": [
      "Step: 1 Cost: 1.037\n",
      "Step: 2 Cost: 1.023\n",
      "Step: 3 Cost: 1.009\n",
      "Step: 4 Cost: 0.994\n",
      "Step: 5 Cost: 0.982\n",
      "Step: 6 Cost: 0.970\n",
      "Step: 7 Cost: 0.958\n",
      "Step: 8 Cost: 0.946\n",
      "Step: 9 Cost: 0.935\n",
      "Step: 10 Cost: 0.925\n",
      "Step: 11 Cost: 0.914\n",
      "Step: 12 Cost: 0.904\n",
      "Step: 13 Cost: 0.893\n",
      "Step: 14 Cost: 0.881\n",
      "Step: 15 Cost: 0.869\n",
      "Step: 16 Cost: 0.858\n",
      "Step: 17 Cost: 0.844\n",
      "Step: 18 Cost: 0.819\n",
      "Step: 19 Cost: 0.794\n",
      "Step: 20 Cost: 0.769\n",
      "Step: 21 Cost: 0.745\n",
      "Step: 22 Cost: 0.723\n",
      "Step: 23 Cost: 0.704\n",
      "Step: 24 Cost: 0.687\n",
      "Step: 25 Cost: 0.671\n",
      "Step: 26 Cost: 0.657\n",
      "Step: 27 Cost: 0.645\n",
      "Step: 28 Cost: 0.634\n",
      "Step: 29 Cost: 0.625\n",
      "Step: 30 Cost: 0.616\n",
      "Step: 31 Cost: 0.609\n",
      "Step: 32 Cost: 0.602\n",
      "Step: 33 Cost: 0.596\n",
      "Step: 34 Cost: 0.591\n",
      "Step: 35 Cost: 0.586\n",
      "Step: 36 Cost: 0.582\n",
      "Step: 37 Cost: 0.578\n",
      "Step: 38 Cost: 0.575\n",
      "Step: 39 Cost: 0.572\n",
      "Step: 40 Cost: 0.569\n",
      "Step: 41 Cost: 0.567\n",
      "Step: 42 Cost: 0.565\n",
      "Step: 43 Cost: 0.563\n",
      "Step: 44 Cost: 0.562\n",
      "Step: 45 Cost: 0.560\n",
      "Step: 46 Cost: 0.559\n",
      "Step: 47 Cost: 0.558\n",
      "Step: 48 Cost: 0.557\n",
      "Step: 49 Cost: 0.556\n",
      "Step: 50 Cost: 0.556\n",
      "Step: 51 Cost: 0.555\n",
      "Step: 52 Cost: 0.555\n",
      "Step: 53 Cost: 0.554\n",
      "Step: 54 Cost: 0.554\n",
      "Step: 55 Cost: 0.554\n",
      "Step: 56 Cost: 0.553\n",
      "Step: 57 Cost: 0.553\n",
      "Step: 58 Cost: 0.553\n",
      "Step: 59 Cost: 0.552\n",
      "Step: 60 Cost: 0.552\n",
      "Step: 61 Cost: 0.552\n",
      "Step: 62 Cost: 0.552\n",
      "Step: 63 Cost: 0.552\n",
      "Step: 64 Cost: 0.552\n",
      "Step: 65 Cost: 0.552\n",
      "Step: 66 Cost: 0.551\n",
      "Step: 67 Cost: 0.551\n",
      "Step: 68 Cost: 0.551\n",
      "Step: 69 Cost: 0.551\n",
      "Step: 70 Cost: 0.551\n",
      "Step: 71 Cost: 0.551\n",
      "Step: 72 Cost: 0.551\n",
      "Step: 73 Cost: 0.551\n",
      "Step: 74 Cost: 0.551\n",
      "Step: 75 Cost: 0.551\n",
      "Step: 76 Cost: 0.551\n",
      "Step: 77 Cost: 0.551\n",
      "Step: 78 Cost: 0.551\n",
      "Step: 79 Cost: 0.551\n",
      "Step: 80 Cost: 0.551\n",
      "Step: 81 Cost: 0.551\n",
      "Step: 82 Cost: 0.551\n",
      "Step: 83 Cost: 0.551\n",
      "Step: 84 Cost: 0.551\n",
      "Step: 85 Cost: 0.551\n",
      "Step: 86 Cost: 0.551\n",
      "Step: 87 Cost: 0.550\n",
      "Step: 88 Cost: 0.550\n",
      "Step: 89 Cost: 0.550\n",
      "Step: 90 Cost: 0.550\n",
      "Step: 91 Cost: 0.550\n",
      "Step: 92 Cost: 0.550\n",
      "Step: 93 Cost: 0.550\n",
      "Step: 94 Cost: 0.550\n",
      "Step: 95 Cost: 0.550\n",
      "Step: 96 Cost: 0.550\n",
      "Step: 97 Cost: 0.550\n",
      "Step: 98 Cost: 0.550\n",
      "Step: 99 Cost: 0.550\n",
      "Step: 100 Cost: 0.550\n"
     ]
    }
   ],
   "source": [
    "sess = tf.Session()\n",
    "saver = tf.train.Saver(tf.global_variables())\n",
    "\n",
    "ckpt = tf.train.get_checkpoint_state('.\\model')\n",
    "\n",
    "if ckpt and tf.train.checkpoint_exists(ckpt.model_checkpoint_path):\n",
    "    saver.restore(sess, ckpt.model_checkpoint_path)\n",
    "else :\n",
    "    sess.run(tf.global_variables_initializer())\n",
    "    \n",
    "# 위에서 지정한 텐서들을 수집한다.\n",
    "merged = tf.summary.merge_all()\n",
    "\n",
    "# 그래프와 텐서들의 값을 저장할 디렉토리를 설정한다.\n",
    "writer = tf.summary.FileWriter('.\\logs', sess.graph)\n",
    "\n",
    "# 최적화\n",
    "for step in range(100):\n",
    "    sess.run(train_op, feed_dict={X: x_data, Y:y_data})\n",
    "    \n",
    "    print('Step: %d' % sess.run(global_step)\n",
    "          , 'Cost: %.3f' % sess.run(cost, feed_dict={X: x_data, Y:y_data}))"
   ]
  },
  {
   "cell_type": "code",
   "execution_count": 5,
   "metadata": {},
   "outputs": [],
   "source": [
    "# merged로 모아둔 텐서 값들을 계산하여 수집한뒤\n",
    "summary = sess.run(merged, feed_dict={X:x_data, Y:y_data})\n",
    "\n",
    "# add_summary함수로 해당 값들을 지정한 디렉토리에 저장한다.\n",
    "# 적절한 시점(예제에서는 매 단계) 값들을 수집하고 저장하고, \n",
    "# global_step으로 수집한 시점을 기록한다.\n",
    "writer.add_summary(summary, global_step=sess.run(global_step))"
   ]
  },
  {
   "cell_type": "code",
   "execution_count": 6,
   "metadata": {},
   "outputs": [
    {
     "name": "stdout",
     "output_type": "stream",
     "text": [
      "예측값:: [0 1 2 0 0 2]\n",
      "실제값:: [0 1 2 0 0 2]\n",
      "정확도:: 100.00\n"
     ]
    }
   ],
   "source": [
    "# 모델을 저장하고 예측한다.\n",
    "saver.save(sess, '.\\model\\dnn.ckpt', global_step=global_step)\n",
    "\n",
    "prediction = tf.argmax(model, 1)\n",
    "target = tf.argmax(Y, 1)\n",
    "print('예측값::', sess.run(prediction, feed_dict={X:x_data}))\n",
    "print('실제값::', sess.run(target, feed_dict={Y:y_data}))\n",
    "\n",
    "is_correct = tf.equal(prediction, target)\n",
    "accuracy = tf.reduce_mean(tf.cast(is_correct, tf.float32))\n",
    "print('정확도:: %.2f' % sess.run(accuracy * 100, feed_dict={X: x_data, Y: y_data}))"
   ]
  },
  {
   "cell_type": "markdown",
   "metadata": {},
   "source": [
    "\n",
    "명령어 터미널에서 tensorboard --logdir=로그폴더 를 실행  \n",
    "\n",
    "출력해주는 url을 통해 텐서보드에 접속한다.  \n",
    "\n",
    "SCALARS 메뉴 : tf.summary.scalar 로 수집한 값의 변화를 그래프로 확인한다.  \n",
    "GRAPHS 메뉴 : name_scope로 수집한 결과를 그래프로 확인한다.  \n",
    "\n",
    "\n",
    "#### 5.3 서빙\n",
    "**텐서플로 서빙** : 구글에서 제공하는 텐서플로로 만들고 학습시킨 모델을 실제 서비스에 적용하기 쉽게 만들어주는 서버 환경  \n"
   ]
  },
  {
   "cell_type": "code",
   "execution_count": null,
   "metadata": {},
   "outputs": [],
   "source": []
  }
 ],
 "metadata": {
  "kernelspec": {
   "display_name": "deep",
   "language": "python",
   "name": "deep"
  },
  "language_info": {
   "codemirror_mode": {
    "name": "ipython",
    "version": 3
   },
   "file_extension": ".py",
   "mimetype": "text/x-python",
   "name": "python",
   "nbconvert_exporter": "python",
   "pygments_lexer": "ipython3",
   "version": "3.6.5"
  }
 },
 "nbformat": 4,
 "nbformat_minor": 2
}
